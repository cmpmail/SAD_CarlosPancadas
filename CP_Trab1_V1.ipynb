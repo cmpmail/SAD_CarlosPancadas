{
  "nbformat": 4,
  "nbformat_minor": 0,
  "metadata": {
    "colab": {
      "name": "CP_Trab1_V1.ipynb",
      "version": "0.3.2",
      "provenance": [],
      "collapsed_sections": [],
      "include_colab_link": true
    },
    "kernelspec": {
      "name": "python3",
      "display_name": "Python 3"
    }
  },
  "cells": [
    {
      "cell_type": "markdown",
      "metadata": {
        "id": "view-in-github",
        "colab_type": "text"
      },
      "source": [
        "<a href=\"https://colab.research.google.com/github/cmpmail/SAD_CarlosPancadas/blob/master/CP_Trab1_V1.ipynb\" target=\"_parent\"><img src=\"https://colab.research.google.com/assets/colab-badge.svg\" alt=\"Open In Colab\"/></a>"
      ]
    },
    {
      "metadata": {
        "id": "YpFL6g0rS1Rk",
        "colab_type": "code",
        "colab": {
          "base_uri": "https://localhost:8080/",
          "height": 34
        },
        "outputId": "aa0f172d-ef73-46e8-9361-487054391dd4"
      },
      "cell_type": "code",
      "source": [
        "import random\n",
        "\n",
        "def solution(S):\n",
        "  global i\n",
        "  global f\n",
        "  if f-i==0:\n",
        "\t   print(\"1\")\n",
        "  elif S[i]=='{':\n",
        "     if S[f]=='}':\n",
        "      i+=1\n",
        "      f-=1\n",
        "      solution(S)\n",
        "  elif S[i]=='(':\n",
        "     if S[f]==')':\n",
        "        i+=1\n",
        "        f-=1\n",
        "        solution(S)\n",
        "  elif S[i]=='[':\n",
        "     if S[f]==']':\n",
        "       i+=1\n",
        "       f-=1\n",
        "       solution(S)\n",
        "  else:\n",
        "      print(\"0\")\n",
        "        \n",
        "N=random.randint(0,200000)\n",
        "S=''.join([random.choice('({[]})') for n in range(N)])\n",
        "i=0\n",
        "f=N-1\n",
        "\n",
        "solution(S)"
      ],
      "execution_count": 5,
      "outputs": [
        {
          "output_type": "stream",
          "text": [
            "0\n"
          ],
          "name": "stdout"
        }
      ]
    }
  ]
}